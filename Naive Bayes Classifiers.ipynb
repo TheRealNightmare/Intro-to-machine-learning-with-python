{
 "cells": [
  {
   "cell_type": "code",
   "execution_count": 2,
   "id": "7981247b-2cd8-4a9a-bfe2-49cc741a27d4",
   "metadata": {},
   "outputs": [],
   "source": [
    "import numpy as np\n",
    "import matplotlib.pyplot as plt\n",
    "import pandas as pd\n",
    "import mglearn\n",
    "from pandas.plotting import scatter_matrix\n",
    "from sklearn.model_selection import train_test_split"
   ]
  },
  {
   "cell_type": "code",
   "execution_count": 3,
   "id": "9623a67f-50d3-4e0a-8e5c-6e65a3c1fc7e",
   "metadata": {},
   "outputs": [],
   "source": [
    "X = np.array([[0,1,0,1],\n",
    "             [1,0,1,1],\n",
    "             [0,0,0,1],\n",
    "             [1,0,1,0]])\n",
    "y = np.array([0,1,0,1])"
   ]
  },
  {
   "cell_type": "code",
   "execution_count": null,
   "id": "20e5b690-dbed-42be-ab4c-c5d651577980",
   "metadata": {},
   "outputs": [],
   "source": []
  }
 ],
 "metadata": {
  "kernelspec": {
   "display_name": "Python 3 (ipykernel)",
   "language": "python",
   "name": "python3"
  },
  "language_info": {
   "codemirror_mode": {
    "name": "ipython",
    "version": 3
   },
   "file_extension": ".py",
   "mimetype": "text/x-python",
   "name": "python",
   "nbconvert_exporter": "python",
   "pygments_lexer": "ipython3",
   "version": "3.12.5"
  }
 },
 "nbformat": 4,
 "nbformat_minor": 5
}
